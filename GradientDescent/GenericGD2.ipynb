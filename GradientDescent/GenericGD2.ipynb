{
  "nbformat": 4,
  "nbformat_minor": 0,
  "metadata": {
    "colab": {
      "provenance": []
    },
    "kernelspec": {
      "name": "python3",
      "display_name": "Python 3"
    },
    "language_info": {
      "name": "python"
    }
  },
  "cells": [
    {
      "cell_type": "code",
      "execution_count": null,
      "metadata": {
        "id": "9it-muceYdQs"
      },
      "outputs": [],
      "source": [
        "import numpy as np\n",
        "import pandas as pd"
      ]
    },
    {
      "cell_type": "code",
      "source": [
        "data = pd.read_csv(\"/content/drive/MyDrive/datasets/data.csv\", header = None)\n",
        "df = data.copy()\n",
        "df[2] = 1\n",
        "df = df[list((0, 2, 1))]\n",
        "df.shape"
      ],
      "metadata": {
        "colab": {
          "base_uri": "https://localhost:8080/"
        },
        "id": "KsU1CHlY1iGZ",
        "outputId": "995bb23a-d9d0-4592-be1b-d0a824f296bd"
      },
      "execution_count": null,
      "outputs": [
        {
          "output_type": "execute_result",
          "data": {
            "text/plain": [
              "(100, 3)"
            ]
          },
          "metadata": {},
          "execution_count": 72
        }
      ]
    },
    {
      "cell_type": "code",
      "source": [
        "def slope(X, Y, M, j, m):\n",
        "  s = 0\n",
        "  for i in range(M):\n",
        "    s += (-2/M)*(Y[i,0] - (m*X[i]).sum())*(X[i, j])\n",
        "  return s "
      ],
      "metadata": {
        "id": "8USV_OD7C1bE"
      },
      "execution_count": null,
      "outputs": []
    },
    {
      "cell_type": "code",
      "source": [
        "def gradient_descent(X, Y, learning_rate, num_iterations):\n",
        "  M = X.shape[0]\n",
        "  N = X.shape[1]\n",
        "\n",
        "  m = np.zeros(N)\n",
        "\n",
        "  for i in range(num_iterations):\n",
        "    # for j in range(N):\n",
        "    #   m[j] = m[j] - learning_rate*slope(X, Y, M, j, m)\n",
        "    for j in range(M):\n",
        "      for k in range(N):\n",
        "        m[k] = m[k] - learning_rate*( (-2/M) * (Y[j,0] - (m*X[j]).sum()) * X[j, k] )\n",
        "  return m"
      ],
      "metadata": {
        "id": "dtndYlWWAAv2"
      },
      "execution_count": null,
      "outputs": []
    },
    {
      "cell_type": "code",
      "source": [
        "def run():\n",
        "  X = df.iloc[:, 0:2].values\n",
        "  Y = df.iloc[:, 2:].values\n",
        "  learning_rate = 0.0001\n",
        "  num_iterations = 1000\n",
        "  m = gradient_descent(X, Y, learning_rate, num_iterations)\n",
        "  print(m)"
      ],
      "metadata": {
        "id": "98mDmn2u5Stf"
      },
      "execution_count": null,
      "outputs": []
    },
    {
      "cell_type": "code",
      "source": [
        "run()\n",
        "# [1.47802629 0.07457837]"
      ],
      "metadata": {
        "colab": {
          "base_uri": "https://localhost:8080/"
        },
        "id": "0FhXsBet7EA3",
        "outputId": "272146ee-89de-428f-8a07-5700fbe04491"
      },
      "execution_count": null,
      "outputs": [
        {
          "output_type": "stream",
          "name": "stdout",
          "text": [
            "[1.48497599 0.0890674 ]\n"
          ]
        }
      ]
    },
    {
      "cell_type": "code",
      "source": [],
      "metadata": {
        "id": "xrdJ9hDEHOi1"
      },
      "execution_count": null,
      "outputs": []
    }
  ]
}