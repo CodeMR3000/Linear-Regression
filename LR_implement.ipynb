{
  "nbformat": 4,
  "nbformat_minor": 0,
  "metadata": {
    "colab": {
      "provenance": []
    },
    "kernelspec": {
      "name": "python3",
      "display_name": "Python 3"
    },
    "language_info": {
      "name": "python"
    }
  },
  "cells": [
    {
      "cell_type": "code",
      "execution_count": 1,
      "metadata": {
        "id": "Fguh0mdRqxbV"
      },
      "outputs": [],
      "source": [
        "import numpy as np"
      ]
    },
    {
      "cell_type": "code",
      "source": [
        "data = np.loadtxt(\"/content/data.csv\", delimiter = \",\")"
      ],
      "metadata": {
        "id": "xyz6rwvd9Q2o"
      },
      "execution_count": 2,
      "outputs": []
    },
    {
      "cell_type": "code",
      "source": [
        "x = data[:, 0]\n",
        "y = data[:, 1]\n"
      ],
      "metadata": {
        "id": "9J1HHieI9SgO"
      },
      "execution_count": 3,
      "outputs": []
    },
    {
      "cell_type": "code",
      "source": [
        "from sklearn import model_selection\n",
        "X_train, X_test, Y_train, Y_test = model_selection.train_test_split(x, y, test_size = 0.3)"
      ],
      "metadata": {
        "id": "CMo1EtvN9dSH"
      },
      "execution_count": 4,
      "outputs": []
    },
    {
      "cell_type": "code",
      "source": [
        "def fit(x, y):\n",
        "  num = (x*y).mean() - x.mean()*y.mean()\n",
        "  den = (x**2).mean() - x.mean()**2\n",
        "  m = num/den\n",
        "  c = y.mean() - m*x.mean()\n",
        "  return m, c"
      ],
      "metadata": {
        "id": "-K4ZDX189g8P"
      },
      "execution_count": 5,
      "outputs": []
    },
    {
      "cell_type": "code",
      "source": [
        "def predict(x, m, c):\n",
        "  y = m*x + c\n",
        "  return y\n"
      ],
      "metadata": {
        "id": "LnxsuD129ob3"
      },
      "execution_count": 6,
      "outputs": []
    },
    {
      "cell_type": "code",
      "source": [
        "def score(y_pred, y_true):\n",
        "  u = ((y_true - y_pred)**2).sum()\n",
        "  v = ((y_true - y_true.mean())**2).sum()\n",
        "\n",
        "  return 1 - u/v"
      ],
      "metadata": {
        "id": "d2zugPXN9o6G"
      },
      "execution_count": 7,
      "outputs": []
    },
    {
      "cell_type": "code",
      "source": [
        "def cost(x , y, m, c):\n",
        "  return ((y-m*x-c)**2).mean()"
      ],
      "metadata": {
        "id": "zE_D-ArU9qv3"
      },
      "execution_count": 8,
      "outputs": []
    },
    {
      "cell_type": "code",
      "source": [
        "m,c = fit(X_train, Y_train)\n",
        "print(\"M, C :\", m, c)\n",
        "y_pred = predict(X_test, m, c)\n",
        "print(\"Test Score : \", score(y_pred, Y_test))\n",
        "y_pred_train = predict(X_train, m, c)\n",
        "print(\"Train Score : \", score(y_pred_train, Y_train))"
      ],
      "metadata": {
        "colab": {
          "base_uri": "https://localhost:8080/"
        },
        "id": "F8obLZ5HC6-P",
        "outputId": "0a4e57fc-3d66-4969-d11e-04e1861f5aa2"
      },
      "execution_count": 9,
      "outputs": [
        {
          "output_type": "stream",
          "name": "stdout",
          "text": [
            "M, C : 1.3528107565654333 6.850553963314027\n",
            "Test Score :  0.6021108537943951\n",
            "Train Score :  0.5965562040684125\n"
          ]
        }
      ]
    },
    {
      "cell_type": "markdown",
      "source": [
        "# **Using SKLearn Library**"
      ],
      "metadata": {
        "id": "QI-BJx178g0E"
      }
    },
    {
      "cell_type": "code",
      "source": [
        "from sklearn.linear_model import LinearRegression\n",
        "algo = LinearRegression()\n",
        "algo.fit(X_train.reshape(-1, 1), Y_train)"
      ],
      "metadata": {
        "colab": {
          "base_uri": "https://localhost:8080/"
        },
        "id": "7n4gxrsNESsB",
        "outputId": "dd886aed-e2ba-4d3b-8466-3f70eba5e9a7"
      },
      "execution_count": 10,
      "outputs": [
        {
          "output_type": "execute_result",
          "data": {
            "text/plain": [
              "LinearRegression()"
            ]
          },
          "metadata": {},
          "execution_count": 10
        }
      ]
    },
    {
      "cell_type": "code",
      "source": [
        "score_test = algo.score(X_test.reshape(-1, 1), Y_test)\n",
        "score_train = algo.score(X_train.reshape(-1, 1), Y_train)\n",
        "\n",
        "score_test,  score_train"
      ],
      "metadata": {
        "colab": {
          "base_uri": "https://localhost:8080/"
        },
        "id": "dOychZayExol",
        "outputId": "bde28fb9-2beb-4337-93f1-dfadc875a727"
      },
      "execution_count": 11,
      "outputs": [
        {
          "output_type": "execute_result",
          "data": {
            "text/plain": [
              "(0.6021108537943953, 0.5965562040684125)"
            ]
          },
          "metadata": {},
          "execution_count": 11
        }
      ]
    },
    {
      "cell_type": "code",
      "source": [
        "algo.coef_, algo.intercept_"
      ],
      "metadata": {
        "colab": {
          "base_uri": "https://localhost:8080/"
        },
        "id": "p3ZqTBd8FKZu",
        "outputId": "c9ed01dc-0407-40cc-fd6f-f5fb0bf23036"
      },
      "execution_count": 12,
      "outputs": [
        {
          "output_type": "execute_result",
          "data": {
            "text/plain": [
              "(array([1.35281076]), 6.850553963314198)"
            ]
          },
          "metadata": {},
          "execution_count": 12
        }
      ]
    }
  ]
}